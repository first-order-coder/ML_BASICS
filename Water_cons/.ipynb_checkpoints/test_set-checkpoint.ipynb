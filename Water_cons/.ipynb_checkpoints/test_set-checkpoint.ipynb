{
 "cells": [
  {
   "cell_type": "code",
   "execution_count": 4,
   "id": "dc902598-255b-4d0e-a809-258b67e1c32d",
   "metadata": {},
   "outputs": [
    {
     "name": "stdout",
     "output_type": "stream",
     "text": [
      "     Country  Year  Total Water Consumption (Billion Cubic Meters)  \\\n",
      "0  Indonesia  2022                                          895.15   \n",
      "1  Indonesia  2024                                          502.89   \n",
      "2      Spain  2000                                          843.39   \n",
      "3     Canada  2021                                          803.34   \n",
      "4     Brazil  2022                                          416.40   \n",
      "\n",
      "   Per Capita Water Use (Liters per Day) Water Scarcity Level  \\\n",
      "0                                 489.73                  Low   \n",
      "1                                 311.95                 High   \n",
      "2                                 440.09               Medium   \n",
      "3                                 478.98                 High   \n",
      "4                                 353.91                 High   \n",
      "\n",
      "   Agricultural Water Use (%)  Industrial Water Use (%)  \\\n",
      "0                       20.78                     13.75   \n",
      "1                       48.51                      8.44   \n",
      "2                       25.16                     31.70   \n",
      "3                       45.74                      6.13   \n",
      "4                       26.58                      7.95   \n",
      "\n",
      "   Household Water Use (%)  Rainfall Impact (Annual Precipitation in mm)  \\\n",
      "0                    34.99                                       1075.28   \n",
      "1                    32.88                                       2630.69   \n",
      "2                    34.62                                       2860.62   \n",
      "3                    18.99                                       1725.50   \n",
      "4                    31.11                                        988.44   \n",
      "\n",
      "   Groundwater Depletion Rate (%)  \n",
      "0                            3.10  \n",
      "1                            1.78  \n",
      "2                            4.13  \n",
      "3                            0.61  \n",
      "4                            0.80  \n"
     ]
    }
   ],
   "source": [
    "import pandas as pd\n",
    "df = pd.read_csv(r\"C:\\Users\\ginuram\\Desktop\\Dekstop\\30DaysofPython\\ML\\Water_cons\\global_water_consumption.csv\")\n",
    "print(df.head(5))"
   ]
  },
  {
   "cell_type": "code",
   "execution_count": null,
   "id": "eeb15276-16cd-4114-b6b6-51bc478dfa48",
   "metadata": {},
   "outputs": [],
   "source": []
  }
 ],
 "metadata": {
  "kernelspec": {
   "display_name": "Python 3 (ipykernel)",
   "language": "python",
   "name": "python3"
  },
  "language_info": {
   "codemirror_mode": {
    "name": "ipython",
    "version": 3
   },
   "file_extension": ".py",
   "mimetype": "text/x-python",
   "name": "python",
   "nbconvert_exporter": "python",
   "pygments_lexer": "ipython3",
   "version": "3.11.9"
  }
 },
 "nbformat": 4,
 "nbformat_minor": 5
}
